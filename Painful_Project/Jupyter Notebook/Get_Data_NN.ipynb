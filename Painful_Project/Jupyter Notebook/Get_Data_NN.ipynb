{
 "cells": [
  {
   "cell_type": "code",
   "execution_count": 1,
   "metadata": {},
   "outputs": [],
   "source": [
    "import pandas as pd"
   ]
  },
  {
   "cell_type": "code",
   "execution_count": 2,
   "metadata": {},
   "outputs": [],
   "source": [
    "state = \"GA\"\n",
    "race = \"Other Races and Unknown combined\"\n",
    "gender = \"Male\"\n",
    "year = 2018.0\n",
    "\n",
    "statelist = pd.Series(data=('AK', 'AL', 'AR', 'AZ', 'CA', 'CO', 'CT', 'DE', 'FL', 'GA', 'HI','IA', 'ID', 'IL', 'IN', 'KS', 'KY', 'LA', 'MA', 'MD', 'ME', 'MI','MN', 'MO', 'MS', 'MT', 'NC', 'ND', 'NE', 'NH', 'NJ', 'NM', 'NV','NY', 'OH', 'OK', 'OR', 'PA', 'PR', 'RI', 'SC', 'SD', 'TN', 'TX','UT', 'VA', 'VT', 'WA', 'WI', 'WV', 'WY'))\n",
    "racelist =pd.Series(data=(\"White\", \"Other Races and Unknown combined\", \"American Indian or Alaska Native\", \"Asian or Pacific Islander\", \"Black or African American\"))     \n",
    "genderlist =pd.Series(data=(\"Male\", \"Female\"))\n",
    "    "
   ]
  },
  {
   "cell_type": "code",
   "execution_count": 3,
   "metadata": {},
   "outputs": [],
   "source": [
    "state_dummies=pd.get_dummies(statelist)\n",
    "race_dummies=pd.get_dummies(racelist)\n",
    "gender_dummies=pd.get_dummies(genderlist)"
   ]
  },
  {
   "cell_type": "code",
   "execution_count": 4,
   "metadata": {},
   "outputs": [],
   "source": [
    "state_dummies_select = state_dummies[state].values\n",
    "race_dummies_select = race_dummies[race].values\n",
    "gender_dummies_select = gender_dummies[gender].values"
   ]
  },
  {
   "cell_type": "code",
   "execution_count": 5,
   "metadata": {},
   "outputs": [],
   "source": [
    "state_dummy = state_dummies_select.tolist()\n",
    "race_dummy = race_dummies_select.tolist()\n",
    "gender_dummy = gender_dummies_select.tolist()"
   ]
  },
  {
   "cell_type": "code",
   "execution_count": 6,
   "metadata": {},
   "outputs": [],
   "source": [
    "data_cancer = gender_dummy + race_dummy + state_dummy"
   ]
  },
  {
   "cell_type": "code",
   "execution_count": 7,
   "metadata": {},
   "outputs": [],
   "source": [
    "pollution_data = pd.read_csv(\"../Data/Data_for_Graphing/ARpollution.csv\")\n",
    "pollution_data_clean= pollution_data[[\"State\", \"Year\", \"CO\", \"Lead\", \"NO2\", \"Ozone\", \"PM10\", \"PM2_5\", \"SO2\"]]"
   ]
  },
  {
   "cell_type": "code",
   "execution_count": 8,
   "metadata": {},
   "outputs": [],
   "source": [
    "data_poll = pollution_data_clean.loc[(pollution_data_clean['Year']==year) & (pollution_data_clean[\"State\"]==state)]"
   ]
  },
  {
   "cell_type": "code",
   "execution_count": 9,
   "metadata": {},
   "outputs": [],
   "source": [
    "data_pollution_dropped = data_poll.drop([\"State\", \"Year\"], axis = 1)\n",
    "data_pollution = data_pollution_dropped.values[0]\n",
    "data_pollution_list = data_pollution.tolist()"
   ]
  },
  {
   "cell_type": "code",
   "execution_count": 10,
   "metadata": {},
   "outputs": [],
   "source": [
    "data = data_pollution_list + data_cancer"
   ]
  },
  {
   "cell_type": "code",
   "execution_count": 11,
   "metadata": {},
   "outputs": [
    {
     "data": {
      "text/plain": [
       "65"
      ]
     },
     "execution_count": 11,
     "metadata": {},
     "output_type": "execute_result"
    }
   ],
   "source": [
    "len(data)"
   ]
  }
 ],
 "metadata": {
  "kernelspec": {
   "display_name": "Python 3",
   "language": "python",
   "name": "python3"
  },
  "language_info": {
   "codemirror_mode": {
    "name": "ipython",
    "version": 3
   },
   "file_extension": ".py",
   "mimetype": "text/x-python",
   "name": "python",
   "nbconvert_exporter": "python",
   "pygments_lexer": "ipython3",
   "version": "3.7.2"
  }
 },
 "nbformat": 4,
 "nbformat_minor": 2
}
