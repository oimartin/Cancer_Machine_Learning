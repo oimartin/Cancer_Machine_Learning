{
 "cells": [
  {
   "cell_type": "code",
   "execution_count": 1,
   "metadata": {},
   "outputs": [],
   "source": [
    "#dependencies\n",
    "import requests\n",
    "import os\n",
    "import pandas as pd\n",
    "import statistics"
   ]
  },
  {
   "cell_type": "code",
   "execution_count": 2,
   "metadata": {},
   "outputs": [],
   "source": [
    "airdfs = []\n",
    "cancerdfs = []\n",
    "\n",
    "\n",
    "conreport1999_df = pd.read_csv(\"../Data/conreport1999.csv\", encoding=\"latin-1\")\n",
    "conreport1999_df['Year'] = 1999\n",
    "airdfs.append(conreport1999_df)\n",
    "\n"
   ]
  },
  {
   "cell_type": "code",
   "execution_count": 3,
   "metadata": {},
   "outputs": [],
   "source": [
    "conreport2000_df = pd.read_csv(\"../Data/conreport2000.csv\", encoding=\"latin-1\")\n",
    "conreport2000_df['Year'] = 2000\n",
    "airdfs.append(conreport2000_df)\n",
    "\n",
    "conreport2001_df = pd.read_csv(\"../Data/conreport2001.csv\", encoding=\"latin-1\")\n",
    "conreport2001_df['Year'] = 2001\n",
    "airdfs.append(conreport2001_df)\n",
    "\n",
    "conreport2002_df = pd.read_csv(\"../Data/conreport2002.csv\", encoding=\"latin-1\")\n",
    "conreport2002_df['Year'] = 2002\n",
    "airdfs.append(conreport2002_df)\n",
    "\n",
    "conreport2003_df = pd.read_csv(\"../Data/conreport2003.csv\", encoding=\"latin-1\")\n",
    "conreport2003_df['Year'] = 2003\n",
    "airdfs.append(conreport2003_df)\n",
    "\n",
    "conreport2004_df = pd.read_csv(\"../Data/conreport2004.csv\",  encoding=\"latin-1\")\n",
    "conreport2004_df['Year'] = 2004\n",
    "airdfs.append(conreport2004_df)\n",
    "\n",
    "conreport2005_df = pd.read_csv(\"../Data/conreport2005.csv\",  encoding=\"latin-1\")\n",
    "conreport2005_df['Year'] = 2005\n",
    "airdfs.append(conreport2005_df)\n",
    "\n",
    "conreport2006_df = pd.read_csv(\"../Data/conreport2006.csv\",  encoding=\"latin-1\")\n",
    "conreport2006_df['Year'] = 2006\n",
    "airdfs.append(conreport2006_df)\n",
    "\n",
    "conreport2007_df = pd.read_csv(\"../Data/conreport2007.csv\",  encoding=\"latin-1\")\n",
    "conreport2007_df['Year'] = 2007\n",
    "airdfs.append(conreport2007_df)\n",
    "\n",
    "conreport2008_df = pd.read_csv(\"../Data/conreport2008.csv\",  encoding=\"latin-1\")\n",
    "conreport2008_df['Year'] = 2008\n",
    "airdfs.append(conreport2008_df)\n",
    "\n",
    "conreport2009_df = pd.read_csv(\"../Data/conreport2009.csv\",  encoding=\"latin-1\")\n",
    "conreport2009_df['Year'] = 2009\n",
    "airdfs.append(conreport2009_df)\n",
    "\n",
    "conreport2010_df = pd.read_csv(\"../Data/conreport2010.csv\",  encoding=\"latin-1\")\n",
    "conreport2010_df['Year'] = 2010\n",
    "airdfs.append(conreport2010_df)\n",
    "\n",
    "conreport2011_df = pd.read_csv(\"../Data/conreport2011.csv\", encoding=\"latin-1\")\n",
    "conreport2011_df['Year'] = 2011\n",
    "airdfs.append(conreport2011_df)\n",
    "\n",
    "conreport2012_df = pd.read_csv(\"../Data/conreport2012.csv\",  encoding=\"latin-1\")\n",
    "conreport2012_df['Year'] = 2012\n",
    "airdfs.append(conreport2012_df)\n",
    "\n",
    "conreport2013_df = pd.read_csv(\"../Data/conreport2013.csv\",  encoding=\"latin-1\")\n",
    "conreport2013_df['Year'] = 2013\n",
    "airdfs.append(conreport2013_df)\n",
    "\n",
    "conreport2014_df = pd.read_csv(\"../Data/conreport2014.csv\",  encoding=\"latin-1\")\n",
    "conreport2014_df['Year'] = 2014\n",
    "airdfs.append(conreport2014_df)\n",
    "\n",
    "conreport2015_df = pd.read_csv(\"../Data/conreport2015.csv\",  encoding=\"latin-1\")\n",
    "conreport2015_df['Year'] = 2015\n",
    "airdfs.append(conreport2015_df)\n",
    "\n",
    "conreport2016_df = pd.read_csv(\"../Data/conreport2016.csv\", encoding=\"latin-1\")\n",
    "conreport2016_df['Year'] = 2016\n",
    "airdfs.append(conreport2016_df)\n",
    "\n",
    "conreport2017_df = pd.read_csv(\"../Data/conreport2017.csv\", encoding=\"latin-1\")\n",
    "conreport2017_df['Year'] = 2017\n",
    "airdfs.append(conreport2017_df)\n",
    "\n",
    "conreport2018_df = pd.read_csv(\"../Data/conreport2018.csv\", encoding=\"latin-1\")\n",
    "conreport2018_df['Year'] = 2018\n",
    "airdfs.append(conreport2018_df)\n",
    "\n",
    "conreport2019_df = pd.read_csv(\"../Data/conreport2019.csv\", encoding=\"latin-1\")\n",
    "conreport2019_df['Year'] = 2019\n",
    "airdfs.append(conreport2019_df)\n"
   ]
  },
  {
   "cell_type": "code",
   "execution_count": 4,
   "metadata": {},
   "outputs": [],
   "source": [
    "\n",
    "Cancer_1999_df = pd.read_csv(\"../Data/Cancer_1999.csv\", encoding=\"latin-1\")\n",
    "Cancer_1999_df['Year'] = 1999\n",
    "cancerdfs.append(Cancer_1999_df)\n",
    "\n",
    "Cancer_2000_df = pd.read_csv(\"../Data/Cancer_2000.csv\", encoding=\"latin-1\")\n",
    "Cancer_2000_df['Year'] = 2000\n",
    "cancerdfs.append(Cancer_2000_df)\n",
    "\n",
    "Cancer_2001_df = pd.read_csv(\"../Data/Cancer_2001.csv\", encoding=\"latin-1\")\n",
    "Cancer_2001_df['Year'] = 2001\n",
    "cancerdfs.append(Cancer_2001_df)\n",
    "\n",
    "Cancer_2002_df = pd.read_csv(\"../Data/Cancer_2002.csv\", encoding=\"latin-1\")\n",
    "Cancer_2002_df['Year'] = 2002\n",
    "cancerdfs.append(Cancer_2002_df)\n",
    "\n",
    "Cancer_2003_df = pd.read_csv(\"../Data/Cancer_2003.csv\", encoding=\"latin-1\")\n",
    "Cancer_2003_df['Year'] = 2003\n",
    "cancerdfs.append(Cancer_2003_df)\n",
    "\n",
    "Cancer_2004_df = pd.read_csv(\"../Data/Cancer_2004.csv\", encoding=\"latin-1\")\n",
    "Cancer_2004_df['Year'] = 2004\n",
    "cancerdfs.append(Cancer_2004_df)\n",
    "\n",
    "Cancer_2005_df = pd.read_csv(\"../Data/Cancer_2005.csv\", encoding=\"latin-1\")\n",
    "Cancer_2005_df['Year'] = 2005\n",
    "cancerdfs.append(Cancer_2005_df)\n",
    "\n",
    "Cancer_2006_df = pd.read_csv(\"../Data/Cancer_2006.csv\", encoding=\"latin-1\")\n",
    "Cancer_2006_df['Year'] = 2006\n",
    "cancerdfs.append(Cancer_2006_df)\n",
    "\n",
    "Cancer_2007_df = pd.read_csv(\"../Data/Cancer_2007.csv\", encoding=\"latin-1\")\n",
    "Cancer_2007_df['Year'] = 2007\n",
    "cancerdfs.append(Cancer_2007_df)\n",
    "\n",
    "Cancer_2008_df = pd.read_csv(\"../Data/Cancer_2008.csv\", encoding=\"latin-1\")\n",
    "Cancer_2008_df['Year'] = 2008\n",
    "cancerdfs.append(Cancer_2008_df)\n",
    "\n",
    "Cancer_2009_df = pd.read_csv(\"../Data/Cancer_2009.csv\", encoding=\"latin-1\")\n",
    "Cancer_2009_df['Year'] = 2009\n",
    "cancerdfs.append(Cancer_2009_df)\n",
    "\n",
    "Cancer_2010_df = pd.read_csv(\"../Data/Cancer_2010.csv\", encoding=\"latin-1\")\n",
    "Cancer_2010_df['Year'] = 2010\n",
    "cancerdfs.append(Cancer_2010_df)\n",
    "\n",
    "Cancer_2011_df = pd.read_csv(\"../Data/Cancer_2011.csv\", encoding=\"latin-1\")\n",
    "Cancer_2011_df['Year'] = 2011\n",
    "cancerdfs.append(Cancer_2011_df)\n",
    "\n",
    "Cancer_2012_df = pd.read_csv(\"../Data/Cancer_2012.csv\",  encoding=\"latin-1\")\n",
    "Cancer_2012_df['Year'] = 2012\n",
    "cancerdfs.append(Cancer_2012_df)\n",
    "\n",
    "Cancer_2013_df = pd.read_csv(\"../Data/Cancer_2013.csv\", encoding=\"latin-1\")\n",
    "Cancer_2013_df['Year'] = 2013\n",
    "cancerdfs.append(Cancer_2013_df)\n",
    "\n",
    "Cancer_2014_df = pd.read_csv(\"../Data/Cancer_2014.csv\", encoding=\"latin-1\")\n",
    "Cancer_2014_df['Year'] = 2014\n",
    "cancerdfs.append(Cancer_2014_df)\n",
    "\n",
    "Cancer_2015_df = pd.read_csv(\"../Data/Cancer_2015.csv\",  encoding=\"latin-1\")\n",
    "Cancer_2015_df['Year']= 2015\n",
    "cancerdfs.append(Cancer_2015_df)\n",
    "\n",
    "\n",
    "\n"
   ]
  },
  {
   "cell_type": "code",
   "execution_count": 5,
   "metadata": {},
   "outputs": [],
   "source": [
    "airdfs_parsed = []\n",
    "\n",
    "for i in range(0, len(airdfs)):\n",
    "    new = airdfs[i]['County'].str.split(', ', n = 1, expand = True)\n",
    "    airdfs[i]['County']= new[0]\n",
    "    airdfs[i]['State']= new[1]\n",
    "    airdfs_parsed.append(airdfs[i])\n",
    "    "
   ]
  },
  {
   "cell_type": "code",
   "execution_count": 6,
   "metadata": {},
   "outputs": [],
   "source": [
    "\n",
    "airdfs_grouped = []\n",
    "for i in range(0, len(airdfs_parsed)):\n",
    "    new = airdfs_parsed[i]\n",
    "    new['CO 2nd Max 8-hr'] = pd.to_numeric(new['CO 2nd Max 8-hr'],errors='coerce')\n",
    "    new['NO2 Mean 1-hr']= pd.to_numeric(new['NO2 Mean 1-hr'],errors='coerce')  \n",
    "    new['Ozone 4th Max 8-hr']= pd.to_numeric(new['Ozone 4th Max 8-hr'],errors='coerce')\n",
    "    new['SO2 Mean 1-hr']= pd.to_numeric(new['SO2 Mean 1-hr'],errors='coerce')\n",
    "    new['PM2.5 Weighted Mean 24-hr']= pd.to_numeric(new['PM2.5 Weighted Mean 24-hr'],errors='coerce')\n",
    "    new['PM10 Mean 24-hr']= pd.to_numeric(new['PM10 Mean 24-hr'],errors='coerce')\n",
    "    new['Lead Max 3-Mo Avg']= pd.to_numeric(new['Lead Max 3-Mo Avg'],errors='coerce')\n",
    "    cheese = new.rename(index=str, columns={\"CO 2nd Max 8-hr\": 'CO','NO2 Mean 1-hr': 'NO2', 'Ozone 4th Max 8-hr': 'Ozone', 'SO2 Mean 1-hr': 'SO2', 'PM2.5 Weighted Mean 24-hr' : 'PM2.5', 'PM10 Mean 24-hr': 'PM10', 'Lead Max 3-Mo Avg': 'Lead'})\n",
    "    \n",
    "    cheesier = cheese.groupby('State').mean()\n",
    "    cheesiest = cheesier.reset_index()\n",
    "    airdfs_grouped.append(cheesiest)   \n",
    "       \n"
   ]
  },
  {
   "cell_type": "code",
   "execution_count": 7,
   "metadata": {},
   "outputs": [],
   "source": [
    "cancer_concat = pd.concat(cancerdfs)\n",
    "cancer_concat = cancer_concat.rename(index=str, columns={\"States\": 'State'})"
   ]
  },
  {
   "cell_type": "code",
   "execution_count": 8,
   "metadata": {},
   "outputs": [
    {
     "name": "stderr",
     "output_type": "stream",
     "text": [
      "/anaconda3/lib/python3.7/site-packages/ipykernel_launcher.py:1: FutureWarning: Sorting because non-concatenation axis is not aligned. A future version\n",
      "of pandas will change to not sort by default.\n",
      "\n",
      "To accept the future behavior, pass 'sort=False'.\n",
      "\n",
      "To retain the current behavior and silence the warning, pass 'sort=True'.\n",
      "\n",
      "  \"\"\"Entry point for launching an IPython kernel.\n"
     ]
    }
   ],
   "source": [
    "pollution_concat = pd.concat(airdfs_grouped)\n",
    "pollution_concat = pollution_concat.drop(columns=['CO 2nd Max 1-hr'])\n"
   ]
  },
  {
   "cell_type": "code",
   "execution_count": 9,
   "metadata": {},
   "outputs": [],
   "source": [
    "us_state_abbrev = {\n",
    "    'Alabama': 'AL',\n",
    "    'Alaska': 'AK',\n",
    "    'Arizona': 'AZ',\n",
    "    'Arkansas': 'AR',\n",
    "    'California': 'CA',\n",
    "    'Colorado': 'CO',\n",
    "    'Connecticut': 'CT',\n",
    "    'Delaware': 'DE',\n",
    "    'Florida': 'FL',\n",
    "    'Georgia': 'GA',\n",
    "    'Hawaii': 'HI',\n",
    "    'Idaho': 'ID',\n",
    "    'Illinois': 'IL',\n",
    "    'Indiana': 'IN',\n",
    "    'Iowa': 'IA',\n",
    "    'Kansas': 'KS',\n",
    "    'Kentucky': 'KY',\n",
    "    'Louisiana': 'LA',\n",
    "    'Maine': 'ME',\n",
    "    'Maryland': 'MD',\n",
    "    'Massachusetts': 'MA',\n",
    "    'Michigan': 'MI',\n",
    "    'Minnesota': 'MN',\n",
    "    'Mississippi': 'MS',\n",
    "    'Missouri': 'MO',\n",
    "    'Montana': 'MT',\n",
    "    'Nebraska': 'NE',\n",
    "    'Nevada': 'NV',\n",
    "    'New Hampshire': 'NH',\n",
    "    'New Jersey': 'NJ',\n",
    "    'New Mexico': 'NM',\n",
    "    'New York': 'NY',\n",
    "    'North Carolina': 'NC',\n",
    "    'North Dakota': 'ND',\n",
    "    'Ohio': 'OH',\n",
    "    'Oklahoma': 'OK',\n",
    "    'Oregon': 'OR',\n",
    "    'Pennsylvania': 'PA',\n",
    "    'Rhode Island': 'RI',\n",
    "    'South Carolina': 'SC',\n",
    "    'South Dakota': 'SD',\n",
    "    'Tennessee': 'TN',\n",
    "    'Texas': 'TX',\n",
    "    'Utah': 'UT',\n",
    "    'Vermont': 'VT',\n",
    "    'Virginia': 'VA',\n",
    "    'Washington': 'WA',\n",
    "    'West Virginia': 'WV',\n",
    "    'Wisconsin': 'WI',\n",
    "    'Wyoming': 'WY',\n",
    "}"
   ]
  },
  {
   "cell_type": "code",
   "execution_count": 10,
   "metadata": {},
   "outputs": [],
   "source": [
    "cancer_concat['State'] = cancer_concat['State'].map(us_state_abbrev)"
   ]
  },
  {
   "cell_type": "code",
   "execution_count": 11,
   "metadata": {},
   "outputs": [],
   "source": [
    "pollution_concat = pollution_concat[(pollution_concat.Year <= 2015)]"
   ]
  },
  {
   "cell_type": "code",
   "execution_count": 12,
   "metadata": {},
   "outputs": [],
   "source": [
    "all_data = pd.merge(pollution_concat, cancer_concat, how='outer', on=['Year', 'State'])"
   ]
  },
  {
   "cell_type": "code",
   "execution_count": 13,
   "metadata": {},
   "outputs": [],
   "source": [
    "all_data = all_data.dropna(subset=['State'])"
   ]
  },
  {
   "cell_type": "code",
   "execution_count": 14,
   "metadata": {},
   "outputs": [],
   "source": [
    "all_data.to_csv(\"../Data/all_data.csv\")\n",
    "cancer_concat.to_csv(\"../Data/cancer.csv\")\n",
    "pollution_concat.to_csv(\"../Data/pollution.csv\")"
   ]
  },
  {
   "cell_type": "code",
   "execution_count": 5,
   "metadata": {},
   "outputs": [
    {
     "name": "stderr",
     "output_type": "stream",
     "text": [
      "/Users/stevencantor/anaconda3/lib/python3.6/site-packages/plotly/tools.py:1176: UserWarning:\n",
      "\n",
      "plotly.tools.FigureFactory.create_table is deprecated. Use plotly.figure_factory.create_table\n",
      "\n"
     ]
    },
    {
     "name": "stdout",
     "output_type": "stream",
     "text": [
      "Aw, snap! We didn't get a username with your request.\n",
      "\n",
      "Don't have an account? https://plot.ly/api_signup\n",
      "\n",
      "Questions? accounts@plot.ly\n"
     ]
    },
    {
     "ename": "PlotlyError",
     "evalue": "Because you didn't supply a 'file_id' in the call, we're assuming you're trying to snag a figure from a url. You supplied the url, '', we expected it to start with 'https://plot.ly'.\nRun help on this function for more information.",
     "output_type": "error",
     "traceback": [
      "\u001b[0;31m---------------------------------------------------------------------------\u001b[0m",
      "\u001b[0;31mPlotlyError\u001b[0m                               Traceback (most recent call last)",
      "\u001b[0;32m<ipython-input-5-9fdf77c37e51>\u001b[0m in \u001b[0;36m<module>\u001b[0;34m\u001b[0m\n\u001b[1;32m     10\u001b[0m \u001b[0;34m\u001b[0m\u001b[0m\n\u001b[1;32m     11\u001b[0m \u001b[0mtable\u001b[0m \u001b[0;34m=\u001b[0m \u001b[0mFF\u001b[0m\u001b[0;34m.\u001b[0m\u001b[0mcreate_table\u001b[0m\u001b[0;34m(\u001b[0m\u001b[0mpollution_data\u001b[0m\u001b[0;34m.\u001b[0m\u001b[0mhead\u001b[0m\u001b[0;34m(\u001b[0m\u001b[0;36m10\u001b[0m\u001b[0;34m)\u001b[0m\u001b[0;34m)\u001b[0m\u001b[0;34m\u001b[0m\u001b[0;34m\u001b[0m\u001b[0m\n\u001b[0;32m---> 12\u001b[0;31m \u001b[0mpy\u001b[0m\u001b[0;34m.\u001b[0m\u001b[0miplot\u001b[0m\u001b[0;34m(\u001b[0m\u001b[0mtable\u001b[0m\u001b[0;34m,\u001b[0m\u001b[0mfilename\u001b[0m \u001b[0;34m=\u001b[0m\u001b[0;34m'animations-gapminder-data-preview'\u001b[0m\u001b[0;34m)\u001b[0m\u001b[0;34m\u001b[0m\u001b[0;34m\u001b[0m\u001b[0m\n\u001b[0m",
      "\u001b[0;32m~/anaconda3/lib/python3.6/site-packages/chart_studio/plotly/plotly.py\u001b[0m in \u001b[0;36miplot\u001b[0;34m(figure_or_data, **plot_options)\u001b[0m\n\u001b[1;32m    185\u001b[0m         \u001b[0membed_options\u001b[0m\u001b[0;34m[\u001b[0m\u001b[0;34m'height'\u001b[0m\u001b[0;34m]\u001b[0m \u001b[0;34m=\u001b[0m \u001b[0mstr\u001b[0m\u001b[0;34m(\u001b[0m\u001b[0membed_options\u001b[0m\u001b[0;34m[\u001b[0m\u001b[0;34m'height'\u001b[0m\u001b[0;34m]\u001b[0m\u001b[0;34m)\u001b[0m \u001b[0;34m+\u001b[0m \u001b[0;34m'px'\u001b[0m\u001b[0;34m\u001b[0m\u001b[0;34m\u001b[0m\u001b[0m\n\u001b[1;32m    186\u001b[0m \u001b[0;34m\u001b[0m\u001b[0m\n\u001b[0;32m--> 187\u001b[0;31m     \u001b[0;32mreturn\u001b[0m \u001b[0mtools\u001b[0m\u001b[0;34m.\u001b[0m\u001b[0membed\u001b[0m\u001b[0;34m(\u001b[0m\u001b[0murl\u001b[0m\u001b[0;34m,\u001b[0m \u001b[0;34m**\u001b[0m\u001b[0membed_options\u001b[0m\u001b[0;34m)\u001b[0m\u001b[0;34m\u001b[0m\u001b[0;34m\u001b[0m\u001b[0m\n\u001b[0m\u001b[1;32m    188\u001b[0m \u001b[0;34m\u001b[0m\u001b[0m\n\u001b[1;32m    189\u001b[0m \u001b[0;34m\u001b[0m\u001b[0m\n",
      "\u001b[0;32m~/anaconda3/lib/python3.6/site-packages/chart_studio/tools.py\u001b[0m in \u001b[0;36membed\u001b[0;34m(file_owner_or_url, file_id, width, height)\u001b[0m\n\u001b[1;32m    362\u001b[0m         \u001b[0;32melse\u001b[0m\u001b[0;34m:\u001b[0m\u001b[0;34m\u001b[0m\u001b[0;34m\u001b[0m\u001b[0m\n\u001b[1;32m    363\u001b[0m             \u001b[0murl\u001b[0m \u001b[0;34m=\u001b[0m \u001b[0mfile_owner_or_url\u001b[0m\u001b[0;34m\u001b[0m\u001b[0;34m\u001b[0m\u001b[0m\n\u001b[0;32m--> 364\u001b[0;31m         \u001b[0;32mreturn\u001b[0m \u001b[0mPlotlyDisplay\u001b[0m\u001b[0;34m(\u001b[0m\u001b[0murl\u001b[0m\u001b[0;34m,\u001b[0m \u001b[0mwidth\u001b[0m\u001b[0;34m,\u001b[0m \u001b[0mheight\u001b[0m\u001b[0;34m)\u001b[0m\u001b[0;34m\u001b[0m\u001b[0;34m\u001b[0m\u001b[0m\n\u001b[0m\u001b[1;32m    365\u001b[0m     \u001b[0;32melse\u001b[0m\u001b[0;34m:\u001b[0m\u001b[0;34m\u001b[0m\u001b[0;34m\u001b[0m\u001b[0m\n\u001b[1;32m    366\u001b[0m         if (get_config_defaults()['plotly_domain']\n",
      "\u001b[0;32m~/anaconda3/lib/python3.6/site-packages/chart_studio/tools.py\u001b[0m in \u001b[0;36m__init__\u001b[0;34m(self, url, width, height)\u001b[0m\n\u001b[1;32m    393\u001b[0m         \u001b[0;32mdef\u001b[0m \u001b[0m__init__\u001b[0m\u001b[0;34m(\u001b[0m\u001b[0mself\u001b[0m\u001b[0;34m,\u001b[0m \u001b[0murl\u001b[0m\u001b[0;34m,\u001b[0m \u001b[0mwidth\u001b[0m\u001b[0;34m,\u001b[0m \u001b[0mheight\u001b[0m\u001b[0;34m)\u001b[0m\u001b[0;34m:\u001b[0m\u001b[0;34m\u001b[0m\u001b[0;34m\u001b[0m\u001b[0m\n\u001b[1;32m    394\u001b[0m             \u001b[0mself\u001b[0m\u001b[0;34m.\u001b[0m\u001b[0mresource\u001b[0m \u001b[0;34m=\u001b[0m \u001b[0murl\u001b[0m\u001b[0;34m\u001b[0m\u001b[0;34m\u001b[0m\u001b[0m\n\u001b[0;32m--> 395\u001b[0;31m             \u001b[0mself\u001b[0m\u001b[0;34m.\u001b[0m\u001b[0membed_code\u001b[0m \u001b[0;34m=\u001b[0m \u001b[0mget_embed\u001b[0m\u001b[0;34m(\u001b[0m\u001b[0murl\u001b[0m\u001b[0;34m,\u001b[0m \u001b[0mwidth\u001b[0m\u001b[0;34m=\u001b[0m\u001b[0mwidth\u001b[0m\u001b[0;34m,\u001b[0m \u001b[0mheight\u001b[0m\u001b[0;34m=\u001b[0m\u001b[0mheight\u001b[0m\u001b[0;34m)\u001b[0m\u001b[0;34m\u001b[0m\u001b[0;34m\u001b[0m\u001b[0m\n\u001b[0m\u001b[1;32m    396\u001b[0m             \u001b[0msuper\u001b[0m\u001b[0;34m(\u001b[0m\u001b[0mPlotlyDisplay\u001b[0m\u001b[0;34m,\u001b[0m \u001b[0mself\u001b[0m\u001b[0;34m)\u001b[0m\u001b[0;34m.\u001b[0m\u001b[0m__init__\u001b[0m\u001b[0;34m(\u001b[0m\u001b[0mdata\u001b[0m\u001b[0;34m=\u001b[0m\u001b[0mself\u001b[0m\u001b[0;34m.\u001b[0m\u001b[0membed_code\u001b[0m\u001b[0;34m)\u001b[0m\u001b[0;34m\u001b[0m\u001b[0;34m\u001b[0m\u001b[0m\n\u001b[1;32m    397\u001b[0m \u001b[0;34m\u001b[0m\u001b[0m\n",
      "\u001b[0;32m~/anaconda3/lib/python3.6/site-packages/chart_studio/tools.py\u001b[0m in \u001b[0;36mget_embed\u001b[0;34m(file_owner_or_url, file_id, width, height)\u001b[0m\n\u001b[1;32m    267\u001b[0m                 \u001b[0;34m\"'{1}'.\"\u001b[0m\u001b[0;34m\u001b[0m\u001b[0;34m\u001b[0m\u001b[0m\n\u001b[1;32m    268\u001b[0m                 \u001b[0;34m\"\\nRun help on this function for more information.\"\u001b[0m\u001b[0;34m\u001b[0m\u001b[0;34m\u001b[0m\u001b[0m\n\u001b[0;32m--> 269\u001b[0;31m                 \"\".format(url, plotly_rest_url))\n\u001b[0m\u001b[1;32m    270\u001b[0m         \u001b[0murlsplit\u001b[0m \u001b[0;34m=\u001b[0m \u001b[0msix\u001b[0m\u001b[0;34m.\u001b[0m\u001b[0mmoves\u001b[0m\u001b[0;34m.\u001b[0m\u001b[0murllib\u001b[0m\u001b[0;34m.\u001b[0m\u001b[0mparse\u001b[0m\u001b[0;34m.\u001b[0m\u001b[0murlparse\u001b[0m\u001b[0;34m(\u001b[0m\u001b[0murl\u001b[0m\u001b[0;34m)\u001b[0m\u001b[0;34m\u001b[0m\u001b[0;34m\u001b[0m\u001b[0m\n\u001b[1;32m    271\u001b[0m         \u001b[0mfile_owner\u001b[0m \u001b[0;34m=\u001b[0m \u001b[0murlsplit\u001b[0m\u001b[0;34m.\u001b[0m\u001b[0mpath\u001b[0m\u001b[0;34m.\u001b[0m\u001b[0msplit\u001b[0m\u001b[0;34m(\u001b[0m\u001b[0;34m'/'\u001b[0m\u001b[0;34m)\u001b[0m\u001b[0;34m[\u001b[0m\u001b[0;36m1\u001b[0m\u001b[0;34m]\u001b[0m\u001b[0;34m.\u001b[0m\u001b[0msplit\u001b[0m\u001b[0;34m(\u001b[0m\u001b[0;34m'~'\u001b[0m\u001b[0;34m)\u001b[0m\u001b[0;34m[\u001b[0m\u001b[0;36m1\u001b[0m\u001b[0;34m]\u001b[0m\u001b[0;34m\u001b[0m\u001b[0;34m\u001b[0m\u001b[0m\n",
      "\u001b[0;31mPlotlyError\u001b[0m: Because you didn't supply a 'file_id' in the call, we're assuming you're trying to snag a figure from a url. You supplied the url, '', we expected it to start with 'https://plot.ly'.\nRun help on this function for more information."
     ]
    }
   ],
   "source": [
    "import plotly\n",
    "import plotly.plotly as py\n",
    "from plotly.grid_objs import Grid, Column\n",
    "from plotly.tools import FigureFactory as FF \n",
    "\n",
    "import pandas as pd\n",
    "import time\n",
    "\n",
    "pollution_data =pd.read_csv(\"../Data/pollution.csv\")\n",
    "\n",
    "table = FF.create_table(pollution_data.head(10))\n",
    "py.iplot(table,filename ='animations-gapminder-data-preview')"
   ]
  },
  {
   "cell_type": "markdown",
   "metadata": {},
   "source": []
  }
 ],
 "metadata": {
  "kernelspec": {
   "display_name": "Python 3",
   "language": "python",
   "name": "python3"
  },
  "language_info": {
   "codemirror_mode": {
    "name": "ipython",
    "version": 3
   },
   "file_extension": ".py",
   "mimetype": "text/x-python",
   "name": "python",
   "nbconvert_exporter": "python",
   "pygments_lexer": "ipython3",
   "version": "3.6.8"
  }
 },
 "nbformat": 4,
 "nbformat_minor": 2
}
