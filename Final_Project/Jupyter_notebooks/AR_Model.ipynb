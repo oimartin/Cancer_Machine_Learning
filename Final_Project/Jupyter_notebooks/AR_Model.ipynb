{
 "cells": [
  {
   "cell_type": "code",
   "execution_count": 1,
   "metadata": {},
   "outputs": [],
   "source": [
    "#dependencies\n",
    "import requests\n",
    "import os\n",
    "import pandas as pd\n",
    "import statistics\n",
    "from pandas import Series\n",
    "from matplotlib import pyplot as plt\n",
    "from statsmodels.tsa.ar_model import AR\n",
    "from sklearn.metrics import mean_squared_error\n",
    "import numpy\n",
    "from statsmodels.tsa.ar_model import AR\n",
    "from statsmodels.tsa.ar_model import ARResults\n",
    "\n",
    "  "
   ]
  },
  {
   "cell_type": "code",
   "execution_count": 2,
   "metadata": {},
   "outputs": [],
   "source": [
    "kind = 'CO'\n",
    "state =  \"WV\"\n",
    "choice = \"../Data/pollution.csv\""
   ]
  },
  {
   "cell_type": "code",
   "execution_count": 3,
   "metadata": {
    "scrolled": true
   },
   "outputs": [],
   "source": [
    "choice_df = pd.read_csv(choice)"
   ]
  },
  {
   "cell_type": "code",
   "execution_count": 4,
   "metadata": {},
   "outputs": [],
   "source": [
    "index = choice_df.Year.unique()\n",
    "lst = choice_df[choice_df['State']==state][kind].values"
   ]
  },
  {
   "cell_type": "code",
   "execution_count": 5,
   "metadata": {},
   "outputs": [],
   "source": [
    "series = pd.Series(lst, index = index)"
   ]
  },
  {
   "cell_type": "code",
   "execution_count": 6,
   "metadata": {},
   "outputs": [
    {
     "name": "stdout",
     "output_type": "stream",
     "text": [
      "1999.0    3.300000\n",
      "2000.0    5.166667\n",
      "2001.0    4.266667\n",
      "2002.0    6.100000\n",
      "2003.0    5.166667\n",
      "dtype: float64\n"
     ]
    },
    {
     "data": {
      "image/png": "[encoded data removed]",
      "text/plain": [
       "<Figure size 432x288 with 1 Axes>"
      ]
     },
     "metadata": {
      "needs_background": "light"
     },
     "output_type": "display_data"
    }
   ],
   "source": [
    "print(series.head())\n",
    "series.plot()\n",
    "plt.show()"
   ]
  },
  {
   "cell_type": "code",
   "execution_count": 7,
   "metadata": {},
   "outputs": [
    {
     "name": "stdout",
     "output_type": "stream",
     "text": [
      "Test MSE: 0.157\n"
     ]
    },
    {
     "data": {
      "image/png": "[encoded data removed]",
      "text/plain": [
       "<Figure size 432x288 with 1 Axes>"
      ]
     },
     "metadata": {
      "needs_background": "light"
     },
     "output_type": "display_data"
    }
   ],
   "source": [
    "\n",
    " \n",
    "# create a difference transform of the dataset\n",
    "def difference(dataset):\n",
    "\tdiff = list()\n",
    "\tfor i in range(1, len(dataset)):\n",
    "\t\tvalue = dataset[i] - dataset[i - 1]\n",
    "\t\tdiff.append(value)\n",
    "\treturn numpy.array(diff)\n",
    " \n",
    "# Make a prediction give regression coefficients and lag obs\n",
    "def predict(coef, history):\n",
    "\tyhat = coef[0]\n",
    "\tfor i in range(1, len(coef)):\n",
    "\t\tyhat += coef[i] * history[-i]\n",
    "\treturn yhat\n",
    " \n",
    "\n",
    "# split dataset\n",
    "X = difference(series.values)\n",
    "size = int(len(X) * 0.80)\n",
    "train, test = X[0:size], X[size:]\n",
    "# train autoregression\n",
    "model = AR(train)\n",
    "model_fit = model.fit(maxlag=3, disp=True)\n",
    "window = model_fit.k_ar\n",
    "coef = model_fit.params\n",
    "# walk forward over time steps in test\n",
    "history = [train[i] for i in range(len(train))]\n",
    "predictions = list()\n",
    "for t in range(len(test)):\n",
    "\tyhat = predict(coef, history)\n",
    "\tobs = test[t]\n",
    "\tpredictions.append(yhat)\n",
    "\thistory.append(obs)\n",
    "error = mean_squared_error(test, predictions)\n",
    "print('Test MSE: %.3f' % error)\n",
    "# plot\n",
    "plt.plot(test)\n",
    "plt.plot(predictions, color='red')\n",
    "plt.show()"
   ]
  },
  {
   "cell_type": "code",
   "execution_count": 8,
   "metadata": {},
   "outputs": [],
   "source": [
    " \n",
    "# create a difference transform of the dataset\n",
    "def difference(dataset):\n",
    "\tdiff = list()\n",
    "\tfor i in range(1, len(dataset)):\n",
    "\t\tvalue = dataset[i] - dataset[i - 1]\n",
    "\t\tdiff.append(value)\n",
    "\treturn numpy.array(diff)\n",
    " \n",
    "# load dataset\n",
    "X = difference(series.values)\n",
    "# fit model\n",
    "model = AR(X)\n",
    "model_fit = model.fit(maxlag=3, disp=False)\n",
    "# save model to file\n",
    "model_fit.save('../Model_Info/ar_model.pkl')\n",
    "# save the differenced dataset\n",
    "numpy.save('../Model_Info/ar_data.npy', X)\n",
    "# save the last ob\n",
    "numpy.save('../Model_Info/ar_obs.npy', [series.values[-1]])"
   ]
  },
  {
   "cell_type": "code",
   "execution_count": 9,
   "metadata": {},
   "outputs": [
    {
     "name": "stdout",
     "output_type": "stream",
     "text": [
      "[-0.39383412  0.1229006   0.21636961 -0.43899337]\n",
      "[ 1.86666667 -0.9         1.83333333 -0.93333333  0.3        -2.31666667\n",
      " -0.25       -0.9         0.25       -1.3        -0.15        0.15\n",
      " -0.05        0.1        -0.25       -0.05      ]\n",
      "[0.7]\n"
     ]
    }
   ],
   "source": [
    "# load the AR model from file\n",
    "loaded = ARResults.load('../Model_Info/ar_model.pkl')\n",
    "print(loaded.params)\n",
    "data = numpy.load('../Model_Info/ar_data.npy')\n",
    "print(data)\n",
    "last_ob = numpy.load('../Model_Info/ar_obs.npy')\n",
    "print(last_ob)"
   ]
  },
  {
   "cell_type": "code",
   "execution_count": 10,
   "metadata": {},
   "outputs": [],
   "source": [
    "# load dataset\n",
    "X = difference(series.values)\n",
    "# fit model\n",
    "window_size = 3\n",
    "model = AR(X)\n",
    "model_fit = model.fit(maxlag=window_size, disp=False)\n",
    "# save coefficients\n",
    "coef = model_fit.params\n",
    "numpy.save('../Model_Info/man_model.npy', coef)\n",
    "# save lag\n",
    "lag = X[-window_size:]\n",
    "numpy.save('../Model_Info/man_data.npy', lag)\n",
    "# save the last ob\n",
    "numpy.save('../Model_Info/man_obs.npy', [series.values[-1]])"
   ]
  },
  {
   "cell_type": "code",
   "execution_count": 11,
   "metadata": {},
   "outputs": [],
   "source": [
    "\n",
    "coef = numpy.load('../Model_Info/man_model.npy')\n",
    "lag = numpy.load('../Model_Info/man_data.npy')\n",
    "last_ob = numpy.load('../Model_Info/man_obs.npy')\n"
   ]
  },
  {
   "cell_type": "code",
   "execution_count": 12,
   "metadata": {},
   "outputs": [
    {
     "name": "stdout",
     "output_type": "stream",
     "text": [
      "[0.2020291084204826, -0.9401064930340077, -1.0663623618869045, -0.5024576614377485, -0.24429200041056826, -0.5785021994843662, -1.0204340959979774, -1.027627882418168, -0.7374569377099789, -0.5595574073184115]\n"
     ]
    }
   ],
   "source": [
    "prediction_X = [2016, 2017, 2018, 2019, 2020, 2021, 2022, 2023, 2024, 2025]\n",
    "yhat = []\n",
    "for prediction in prediction_X:\n",
    "    import numpy\n",
    "    def predict(coef, history):\n",
    "        yhat = coef[0]\n",
    "        for i in range(1, len(coef)):\n",
    "            yhat += coef[i] * history[-i]\n",
    "        return yhat\n",
    "\n",
    "    # load model\n",
    "    coef = numpy.load('../Model_Info/man_model.npy')\n",
    "    lag = numpy.load('../Model_Info/man_data.npy')\n",
    "    last_ob = numpy.load('../Model_Info/man_obs.npy')\n",
    "    # make prediction\n",
    "    prediction = predict(coef, lag)\n",
    "    # transform prediction\n",
    "    y_predict = prediction + last_ob[0]\n",
    "    yhat.append(y_predict)\n",
    "    # get real observation\n",
    "    observation = prediction\n",
    "    # update and save differenced observation\n",
    "    lag = numpy.load('../Model_Info/man_data.npy')\n",
    "    last_ob = numpy.load('../Model_Info/man_obs.npy')\n",
    "    diffed = observation - last_ob[0]\n",
    "    lag = numpy.append(lag[1:], [diffed], axis=0)\n",
    "    numpy.save('../Model_Info/man_data.npy', lag)\n",
    "    # update and save real observation\n",
    "    last_ob[0] = observation\n",
    "    numpy.save('../Model_Info/man_obs.npy', last_ob)\n",
    "\n",
    "print(yhat)    "
   ]
  },
  {
   "cell_type": "code",
   "execution_count": null,
   "metadata": {},
   "outputs": [],
   "source": []
  }
 ],
 "metadata": {
  "kernelspec": {
   "display_name": "Python 3",
   "language": "python",
   "name": "python3"
  },
  "language_info": {
   "codemirror_mode": {
    "name": "ipython",
    "version": 3
   },
   "file_extension": ".py",
   "mimetype": "text/x-python",
   "name": "python",
   "nbconvert_exporter": "python",
   "pygments_lexer": "ipython3",
   "version": "3.7.2"
  }
 },
 "nbformat": 4,
 "nbformat_minor": 2
}
