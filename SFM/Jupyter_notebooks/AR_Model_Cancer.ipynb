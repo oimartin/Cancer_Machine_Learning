{
 "cells": [
  {
   "cell_type": "code",
   "execution_count": 1,
   "metadata": {},
   "outputs": [],
   "source": [
    "#dependencies\n",
    "import requests\n",
    "import os\n",
    "import pandas as pd\n",
    "import statistics\n",
    "from pandas import Series\n",
    "from matplotlib import pyplot as plt\n",
    "from statsmodels.tsa.ar_model import AR\n",
    "from sklearn.metrics import mean_squared_error\n",
    "import numpy\n",
    "from statsmodels.tsa.ar_model import AR\n",
    "from statsmodels.tsa.ar_model import ARResults"
   ]
  },
  {
   "cell_type": "code",
   "execution_count": 2,
   "metadata": {},
   "outputs": [],
   "source": [
    "state =  \"WV\"\n",
    "choice = \"../Data/cancer.csv\"\n",
    "race = \"White\"\n",
    "sex = 'Male'"
   ]
  },
  {
   "cell_type": "code",
   "execution_count": 3,
   "metadata": {
    "scrolled": true
   },
   "outputs": [],
   "source": [
    "choice_df = pd.read_csv(choice)"
   ]
  },
  {
   "cell_type": "code",
   "execution_count": 4,
   "metadata": {},
   "outputs": [],
   "source": [
    "choice_df = choice_df.fillna(0)\n",
    "choice_df = choice_df.replace(\"Not Applicable\", 0)\n",
    "choice_df[\"Crude Rate\"] = choice_df[\"Crude Rate\"].astype(float)"
   ]
  },
  {
   "cell_type": "code",
   "execution_count": 5,
   "metadata": {},
   "outputs": [],
   "source": [
    "index = choice_df.Year.unique()\n",
    "larynx = choice_df[(choice_df[\"Race\"] == race ) & (choice_df[\"State\"] == state) & (choice_df[\"Cancer Sites\"]==\"Larynx\") & (choice_df[\"Sex\"]==sex)][\"Crude Rate\"].values\n",
    "lung = choice_df[(choice_df[\"Race\"] == race )&(choice_df[\"State\"] == state) & (choice_df[\"Cancer Sites\"]==\"Lung and Bronchus\")& (choice_df[\"Sex\"]==sex)][\"Crude Rate\"].values\n",
    "nasal = choice_df[(choice_df[\"Race\"] == race )&(choice_df[\"State\"] == state) & (choice_df[\"Cancer Sites\"]==\"Nose, Nasal Cavity and Middle Ear\")& (choice_df[\"Sex\"]==sex)][\"Crude Rate\"].values\n",
    "trachea = choice_df[(choice_df[\"Race\"] == race )&(choice_df[\"State\"] == state) & (choice_df[\"Cancer Sites\"]==\"Trachea, Mediastinum and Other Respiratory Organs\")& (choice_df[\"Sex\"]==sex)][\"Crude Rate\"].values\n",
    "\n"
   ]
  },
  {
   "cell_type": "code",
   "execution_count": 6,
   "metadata": {},
   "outputs": [],
   "source": [
    "cancers = [larynx, lung, nasal, trachea]\n",
    "prediction_X = [2016, 2017, 2018, 2019, 2020, 2021, 2022, 2023, 2024, 2025]"
   ]
  },
  {
   "cell_type": "code",
   "execution_count": 7,
   "metadata": {},
   "outputs": [
    {
     "name": "stdout",
     "output_type": "stream",
     "text": [
      "[11.8 10.8 11.6 11.2  9.5  9.3 11.5 10.1 11.  11.3 11.6 11.2 10.7 11.5\n",
      " 11.1 11.7 11.1]\n",
      "[137.7 133.  133.6 131.4 125.  133.4 134.9 135.1 126.4 129.4 132.1 123.2\n",
      " 132.5 124.8 128.5 126.1 128.7]\n",
      "[2.2]\n"
     ]
    }
   ],
   "source": [
    "for cancer in cancers:\n",
    "    if len(cancer) > 0:\n",
    "        index = range(len(cancer))\n",
    "        series = pd.Series(cancer, index = index)  \n",
    "        print(cancer)\n"
   ]
  },
  {
   "cell_type": "code",
   "execution_count": 8,
   "metadata": {},
   "outputs": [],
   "source": [
    "def model_plots(series):\n",
    "    \n",
    "    # create a difference transform of the dataset\n",
    "    def difference(dataset):\n",
    "        diff = list()\n",
    "        for i in range(1, len(dataset)):\n",
    "            value = dataset[i] - dataset[i - 1]\n",
    "            diff.append(value)\n",
    "        return numpy.array(diff)\n",
    "\n",
    "    # Make a prediction give regression coefficients and lag obs\n",
    "    def predict(coef, history):\n",
    "        yhat = coef[0]\n",
    "        for i in range(1, len(coef)):\n",
    "            yhat += coef[i] * history[-i]\n",
    "        return yhat\n",
    "\n",
    "\n",
    "    # split dataset\n",
    "    X = difference(series.values)\n",
    "    size = int(len(X) * 0.80)\n",
    "    train, test = X[0:size], X[size:]\n",
    "    # train autoregression\n",
    "    model = AR(train)\n",
    "    model_fit = model.fit(maxlag=3, disp=True)\n",
    "    window = model_fit.k_ar\n",
    "    coef = model_fit.params\n",
    "    # walk forward over time steps in test\n",
    "    history = [train[i] for i in range(len(train))]\n",
    "    predictions = list()\n",
    "    for t in range(len(test)):\n",
    "        yhat = predict(coef, history)\n",
    "        obs = test[t]\n",
    "        predictions.append(yhat)\n",
    "        history.append(obs)\n",
    "    error = mean_squared_error(test, predictions)\n",
    "    print('Test MSE: %.3f' % error)\n",
    "    # plot\n",
    "    plt.plot(test)\n",
    "    plt.plot(predictions, color='red')\n",
    "    plt.show()"
   ]
  },
  {
   "cell_type": "code",
   "execution_count": 9,
   "metadata": {},
   "outputs": [
    {
     "name": "stdout",
     "output_type": "stream",
     "text": [
      "Test MSE: 0.257\n"
     ]
    },
    {
     "data": {
      "image/png": "[encoded data removed]",
      "text/plain": [
       "<Figure size 432x288 with 1 Axes>"
      ]
     },
     "metadata": {
      "needs_background": "light"
     },
     "output_type": "display_data"
    },
    {
     "name": "stdout",
     "output_type": "stream",
     "text": [
      "Test MSE: 11.343\n"
     ]
    },
    {
     "data": {
      "image/png": "[encoded data removed]",
      "text/plain": [
       "<Figure size 432x288 with 1 Axes>"
      ]
     },
     "metadata": {
      "needs_background": "light"
     },
     "output_type": "display_data"
    }
   ],
   "source": [
    "for cancer in cancers:\n",
    "    if len(cancer) > 0:\n",
    "        index = range(len(cancer))\n",
    "        series = pd.Series(cancer, index = index)  \n",
    "        if len(cancer) > 1:\n",
    "            model_plots(series)"
   ]
  },
  {
   "cell_type": "code",
   "execution_count": 10,
   "metadata": {},
   "outputs": [],
   "source": [
    "def ar_data(series):\n",
    "\n",
    "    def difference(dataset):\n",
    "        diff = list()\n",
    "        for i in range(1, len(dataset)):\n",
    "            value = dataset[i] - dataset[i - 1]\n",
    "            diff.append(value)\n",
    "        return numpy.array(diff)\n",
    "\n",
    "    # load dataset\n",
    "    X = difference(series.values)\n",
    "    # fit model\n",
    "    model = AR(X)\n",
    "    model_fit = model.fit(maxlag=3, disp=False)\n",
    "    # save model to file\n",
    "    model_fit.save('../Model_Info/ar_model.pkl')\n",
    "    # save the differenced dataset\n",
    "    numpy.save('../Model_Info/ar_data.npy', X)\n",
    "    # save the last ob\n",
    "    numpy.save('../Model_Info/ar_obs.npy', [series.values[-1]])# load the AR model from file\n",
    "    loaded = ARResults.load('../Model_Info/ar_model.pkl')\n",
    "    print(loaded.params)\n",
    "    data = numpy.load('../Model_Info/ar_data.npy')\n",
    "    print(data)\n",
    "    last_ob = numpy.load('../Model_Info/ar_obs.npy')\n",
    "    print(last_ob)"
   ]
  },
  {
   "cell_type": "code",
   "execution_count": 11,
   "metadata": {},
   "outputs": [
    {
     "name": "stdout",
     "output_type": "stream",
     "text": [
      "[ 0.00448037 -0.55921695 -0.44832038 -0.10724348]\n",
      "[-1.   0.8 -0.4 -1.7 -0.2  2.2 -1.4  0.9  0.3  0.3 -0.4 -0.5  0.8 -0.4\n",
      "  0.6 -0.6]\n",
      "[11.1]\n",
      "[-1.19752263 -0.89277828 -0.557354   -0.28402047]\n",
      "[-4.7  0.6 -2.2 -6.4  8.4  1.5  0.2 -8.7  3.   2.7 -8.9  9.3 -7.7  3.7\n",
      " -2.4  2.6]\n",
      "[128.7]\n"
     ]
    }
   ],
   "source": [
    "for cancer in cancers:\n",
    "    if len(cancer) > 0:\n",
    "        index = range(len(cancer))\n",
    "        series = pd.Series(cancer, index = index)  \n",
    "        if len(cancer) > 1:\n",
    "            ar_data(series)"
   ]
  },
  {
   "cell_type": "code",
   "execution_count": 12,
   "metadata": {},
   "outputs": [],
   "source": [
    "def predict(series):\n",
    "# load dataset\n",
    "    def difference(dataset):\n",
    "        diff = list()\n",
    "        for i in range(1, len(dataset)):\n",
    "            value = dataset[i] - dataset[i - 1]\n",
    "            diff.append(value)\n",
    "        return numpy.array(diff)\n",
    "\n",
    "    import numpy\n",
    "    X = difference(series.values)\n",
    "    # fit model\n",
    "    window_size = 3\n",
    "    model = AR(X)\n",
    "    model_fit = model.fit(maxlag=window_size, disp=False)\n",
    "    # save coefficients\n",
    "    coef = model_fit.params\n",
    "    numpy.save('../Model_Info/man_model.npy', coef)\n",
    "    # save lag\n",
    "    lag = X[-window_size:]\n",
    "    numpy.save('../Model_Info/man_data.npy', lag)\n",
    "    # save the last ob\n",
    "    numpy.save('../Model_Info/man_obs.npy', [series.values[-1]])\n",
    "    coef = numpy.load('../Model_Info/man_model.npy')\n",
    "    lag = numpy.load('../Model_Info/man_data.npy')\n",
    "    last_ob = numpy.load('../Model_Info/man_obs.npy')\n",
    "\n",
    "    \n",
    "    yhat = []\n",
    "    for prediction in prediction_X:\n",
    "        import numpy\n",
    "        def predict(coef, history):\n",
    "            yhat = coef[0]\n",
    "            for i in range(1, len(coef)):\n",
    "                yhat += coef[i] * history[-i]\n",
    "            return yhat\n",
    "\n",
    "        # load model\n",
    "        coef = numpy.load('../Model_Info/man_model.npy')\n",
    "        lag = numpy.load('../Model_Info/man_data.npy')\n",
    "        last_ob = numpy.load('../Model_Info/man_obs.npy')\n",
    "        # make prediction\n",
    "        prediction = predict(coef, lag)\n",
    "        # transform prediction\n",
    "        y_predict = prediction + last_ob[0]\n",
    "        yhat.append(y_predict)\n",
    "        # get real observation\n",
    "        observation = prediction\n",
    "        # update and save differenced observation\n",
    "        lag = numpy.load('../Model_Info/man_data.npy')\n",
    "        last_ob = numpy.load('../Model_Info/man_obs.npy')\n",
    "        diffed = observation - last_ob[0]\n",
    "        lag = numpy.append(lag[1:], [diffed], axis=0)\n",
    "        numpy.save('../Model_Info/man_data.npy', lag)\n",
    "        # update and save real observation\n",
    "        last_ob[0] = observation\n",
    "        numpy.save('../Model_Info/man_obs.npy', last_ob)\n",
    "\n",
    "    print(yhat)\n",
    "    yhat_list.append(yhat)"
   ]
  },
  {
   "cell_type": "code",
   "execution_count": 13,
   "metadata": {},
   "outputs": [
    {
     "name": "stdout",
     "output_type": "stream",
     "text": [
      "[11.213915700928542, 6.4666467549071145, 7.857991722641186, 2.6017265127105014, 2.833698683526639, 2.086516104958708, 0.8865002362572882, 0.9901296212340792, 0.5691314590493295, 0.3266247579910268]\n",
      "[125.46802771013228, 112.5890331263557, 81.12992968055435, 69.60204572830312, 29.08855446272537, 49.13466140130768, 5.562737390776903, 36.83890501479327, -11.726246870791329, 35.90628864446734]\n"
     ]
    }
   ],
   "source": [
    "yhat_list = []\n",
    "for cancer in cancers:\n",
    "    if len(cancer) > 0:\n",
    "        index = range(len(cancer))\n",
    "        series = pd.Series(cancer, index = index)  \n",
    "        if len(cancer) > 1:\n",
    "            predict(series)   "
   ]
  },
  {
   "cell_type": "code",
   "execution_count": 14,
   "metadata": {},
   "outputs": [],
   "source": [
    "for i in range (0, len(yhat_list)):\n",
    "    cancers[i]= pd.Series(cancers[i])\n",
    "    yhat_list[i]= pd.Series(yhat_list[i])\n",
    "    cancers[i]= cancers[i].append(yhat_list[i])\n",
    "    cancers[i].reset_index()\n",
    "    \n",
    "        "
   ]
  },
  {
   "cell_type": "code",
   "execution_count": 15,
   "metadata": {},
   "outputs": [
    {
     "data": {
      "text/plain": [
       "[0     11.800000\n",
       " 1     10.800000\n",
       " 2     11.600000\n",
       " 3     11.200000\n",
       " 4      9.500000\n",
       " 5      9.300000\n",
       " 6     11.500000\n",
       " 7     10.100000\n",
       " 8     11.000000\n",
       " 9     11.300000\n",
       " 10    11.600000\n",
       " 11    11.200000\n",
       " 12    10.700000\n",
       " 13    11.500000\n",
       " 14    11.100000\n",
       " 15    11.700000\n",
       " 16    11.100000\n",
       " 0     11.213916\n",
       " 1      6.466647\n",
       " 2      7.857992\n",
       " 3      2.601727\n",
       " 4      2.833699\n",
       " 5      2.086516\n",
       " 6      0.886500\n",
       " 7      0.990130\n",
       " 8      0.569131\n",
       " 9      0.326625\n",
       " dtype: float64, 0     137.700000\n",
       " 1     133.000000\n",
       " 2     133.600000\n",
       " 3     131.400000\n",
       " 4     125.000000\n",
       " 5     133.400000\n",
       " 6     134.900000\n",
       " 7     135.100000\n",
       " 8     126.400000\n",
       " 9     129.400000\n",
       " 10    132.100000\n",
       " 11    123.200000\n",
       " 12    132.500000\n",
       " 13    124.800000\n",
       " 14    128.500000\n",
       " 15    126.100000\n",
       " 16    128.700000\n",
       " 0     125.468028\n",
       " 1     112.589033\n",
       " 2      81.129930\n",
       " 3      69.602046\n",
       " 4      29.088554\n",
       " 5      49.134661\n",
       " 6       5.562737\n",
       " 7      36.838905\n",
       " 8     -11.726247\n",
       " 9      35.906289\n",
       " dtype: float64, array([2.2]), array([], dtype=float64)]"
      ]
     },
     "execution_count": 15,
     "metadata": {},
     "output_type": "execute_result"
    }
   ],
   "source": [
    "cancers"
   ]
  },
  {
   "cell_type": "code",
   "execution_count": 16,
   "metadata": {},
   "outputs": [],
   "source": [
    "index = pd.Series(choice_df.Year.unique())\n",
    "prediction_X = pd.Series(prediction_X)\n",
    "index = index.append(prediction_X)\n",
    "index=index.values"
   ]
  },
  {
   "cell_type": "code",
   "execution_count": 33,
   "metadata": {},
   "outputs": [
    {
     "data": {
      "text/plain": [
       "2"
      ]
     },
     "execution_count": 33,
     "metadata": {},
     "output_type": "execute_result"
    }
   ],
   "source": [
    "len(yhat_list)"
   ]
  },
  {
   "cell_type": "code",
   "execution_count": 38,
   "metadata": {},
   "outputs": [],
   "source": [
    "if len(yhat_list) == 2:\n",
    "    data_with_predict = pd.DataFrame({\"Year\": index, \"Lung\" :cancers[0], \"Larynx\": cancers[1]})\n",
    "elif len(yhat_list) == 1:    \n",
    "    data_with_predict = pd.DataFrame({\"Year\": index, \"Lung\" :cancers[0]})\n",
    "elif len(yhat_list) == 3:   \n",
    "    data_with_predict = pd.DataFrame({\"Year\": index, \"Lung\" :cancers[0], \"Larynx\": cancers[1], \"Nasal\":cancers[2]})\n",
    "elif len(yhat_list) == 4:   \n",
    "    data_with_predict = pd.DataFrame({\"Year\": index, \"Lung\" :cancers[0], \"Larynx\": cancers[1], \"Nasal\":cancers[2], \"Trachea\": cancers[3]})    \n",
    "    "
   ]
  },
  {
   "cell_type": "code",
   "execution_count": 39,
   "metadata": {},
   "outputs": [
    {
     "data": {
      "text/html": [
       "<div>\n",
       "<style scoped>\n",
       "    .dataframe tbody tr th:only-of-type {\n",
       "        vertical-align: middle;\n",
       "    }\n",
       "\n",
       "    .dataframe tbody tr th {\n",
       "        vertical-align: top;\n",
       "    }\n",
       "\n",
       "    .dataframe thead th {\n",
       "        text-align: right;\n",
       "    }\n",
       "</style>\n",
       "<table border=\"1\" class=\"dataframe\">\n",
       "  <thead>\n",
       "    <tr style=\"text-align: right;\">\n",
       "      <th></th>\n",
       "      <th>Year</th>\n",
       "      <th>Lung</th>\n",
       "      <th>Larynx</th>\n",
       "    </tr>\n",
       "  </thead>\n",
       "  <tbody>\n",
       "    <tr>\n",
       "      <th>0</th>\n",
       "      <td>1999</td>\n",
       "      <td>11.800000</td>\n",
       "      <td>137.700000</td>\n",
       "    </tr>\n",
       "    <tr>\n",
       "      <th>1</th>\n",
       "      <td>2000</td>\n",
       "      <td>10.800000</td>\n",
       "      <td>133.000000</td>\n",
       "    </tr>\n",
       "    <tr>\n",
       "      <th>2</th>\n",
       "      <td>2001</td>\n",
       "      <td>11.600000</td>\n",
       "      <td>133.600000</td>\n",
       "    </tr>\n",
       "    <tr>\n",
       "      <th>3</th>\n",
       "      <td>2002</td>\n",
       "      <td>11.200000</td>\n",
       "      <td>131.400000</td>\n",
       "    </tr>\n",
       "    <tr>\n",
       "      <th>4</th>\n",
       "      <td>2003</td>\n",
       "      <td>9.500000</td>\n",
       "      <td>125.000000</td>\n",
       "    </tr>\n",
       "    <tr>\n",
       "      <th>5</th>\n",
       "      <td>2004</td>\n",
       "      <td>9.300000</td>\n",
       "      <td>133.400000</td>\n",
       "    </tr>\n",
       "    <tr>\n",
       "      <th>6</th>\n",
       "      <td>2005</td>\n",
       "      <td>11.500000</td>\n",
       "      <td>134.900000</td>\n",
       "    </tr>\n",
       "    <tr>\n",
       "      <th>7</th>\n",
       "      <td>2006</td>\n",
       "      <td>10.100000</td>\n",
       "      <td>135.100000</td>\n",
       "    </tr>\n",
       "    <tr>\n",
       "      <th>8</th>\n",
       "      <td>2007</td>\n",
       "      <td>11.000000</td>\n",
       "      <td>126.400000</td>\n",
       "    </tr>\n",
       "    <tr>\n",
       "      <th>9</th>\n",
       "      <td>2008</td>\n",
       "      <td>11.300000</td>\n",
       "      <td>129.400000</td>\n",
       "    </tr>\n",
       "    <tr>\n",
       "      <th>10</th>\n",
       "      <td>2009</td>\n",
       "      <td>11.600000</td>\n",
       "      <td>132.100000</td>\n",
       "    </tr>\n",
       "    <tr>\n",
       "      <th>11</th>\n",
       "      <td>2010</td>\n",
       "      <td>11.200000</td>\n",
       "      <td>123.200000</td>\n",
       "    </tr>\n",
       "    <tr>\n",
       "      <th>12</th>\n",
       "      <td>2011</td>\n",
       "      <td>10.700000</td>\n",
       "      <td>132.500000</td>\n",
       "    </tr>\n",
       "    <tr>\n",
       "      <th>13</th>\n",
       "      <td>2012</td>\n",
       "      <td>11.500000</td>\n",
       "      <td>124.800000</td>\n",
       "    </tr>\n",
       "    <tr>\n",
       "      <th>14</th>\n",
       "      <td>2013</td>\n",
       "      <td>11.100000</td>\n",
       "      <td>128.500000</td>\n",
       "    </tr>\n",
       "    <tr>\n",
       "      <th>15</th>\n",
       "      <td>2014</td>\n",
       "      <td>11.700000</td>\n",
       "      <td>126.100000</td>\n",
       "    </tr>\n",
       "    <tr>\n",
       "      <th>16</th>\n",
       "      <td>2015</td>\n",
       "      <td>11.100000</td>\n",
       "      <td>128.700000</td>\n",
       "    </tr>\n",
       "    <tr>\n",
       "      <th>0</th>\n",
       "      <td>2016</td>\n",
       "      <td>11.213916</td>\n",
       "      <td>125.468028</td>\n",
       "    </tr>\n",
       "    <tr>\n",
       "      <th>1</th>\n",
       "      <td>2017</td>\n",
       "      <td>6.466647</td>\n",
       "      <td>112.589033</td>\n",
       "    </tr>\n",
       "    <tr>\n",
       "      <th>2</th>\n",
       "      <td>2018</td>\n",
       "      <td>7.857992</td>\n",
       "      <td>81.129930</td>\n",
       "    </tr>\n",
       "    <tr>\n",
       "      <th>3</th>\n",
       "      <td>2019</td>\n",
       "      <td>2.601727</td>\n",
       "      <td>69.602046</td>\n",
       "    </tr>\n",
       "    <tr>\n",
       "      <th>4</th>\n",
       "      <td>2020</td>\n",
       "      <td>2.833699</td>\n",
       "      <td>29.088554</td>\n",
       "    </tr>\n",
       "    <tr>\n",
       "      <th>5</th>\n",
       "      <td>2021</td>\n",
       "      <td>2.086516</td>\n",
       "      <td>49.134661</td>\n",
       "    </tr>\n",
       "    <tr>\n",
       "      <th>6</th>\n",
       "      <td>2022</td>\n",
       "      <td>0.886500</td>\n",
       "      <td>5.562737</td>\n",
       "    </tr>\n",
       "    <tr>\n",
       "      <th>7</th>\n",
       "      <td>2023</td>\n",
       "      <td>0.990130</td>\n",
       "      <td>36.838905</td>\n",
       "    </tr>\n",
       "    <tr>\n",
       "      <th>8</th>\n",
       "      <td>2024</td>\n",
       "      <td>0.569131</td>\n",
       "      <td>-11.726247</td>\n",
       "    </tr>\n",
       "    <tr>\n",
       "      <th>9</th>\n",
       "      <td>2025</td>\n",
       "      <td>0.326625</td>\n",
       "      <td>35.906289</td>\n",
       "    </tr>\n",
       "  </tbody>\n",
       "</table>\n",
       "</div>"
      ],
      "text/plain": [
       "    Year       Lung      Larynx\n",
       "0   1999  11.800000  137.700000\n",
       "1   2000  10.800000  133.000000\n",
       "2   2001  11.600000  133.600000\n",
       "3   2002  11.200000  131.400000\n",
       "4   2003   9.500000  125.000000\n",
       "5   2004   9.300000  133.400000\n",
       "6   2005  11.500000  134.900000\n",
       "7   2006  10.100000  135.100000\n",
       "8   2007  11.000000  126.400000\n",
       "9   2008  11.300000  129.400000\n",
       "10  2009  11.600000  132.100000\n",
       "11  2010  11.200000  123.200000\n",
       "12  2011  10.700000  132.500000\n",
       "13  2012  11.500000  124.800000\n",
       "14  2013  11.100000  128.500000\n",
       "15  2014  11.700000  126.100000\n",
       "16  2015  11.100000  128.700000\n",
       "0   2016  11.213916  125.468028\n",
       "1   2017   6.466647  112.589033\n",
       "2   2018   7.857992   81.129930\n",
       "3   2019   2.601727   69.602046\n",
       "4   2020   2.833699   29.088554\n",
       "5   2021   2.086516   49.134661\n",
       "6   2022   0.886500    5.562737\n",
       "7   2023   0.990130   36.838905\n",
       "8   2024   0.569131  -11.726247\n",
       "9   2025   0.326625   35.906289"
      ]
     },
     "execution_count": 39,
     "metadata": {},
     "output_type": "execute_result"
    }
   ],
   "source": [
    "data_with_predict"
   ]
  },
  {
   "cell_type": "code",
   "execution_count": null,
   "metadata": {},
   "outputs": [],
   "source": [
    "data_with_predict"
   ]
  }
 ],
 "metadata": {
  "kernelspec": {
   "display_name": "Python 3",
   "language": "python",
   "name": "python3"
  },
  "language_info": {
   "codemirror_mode": {
    "name": "ipython",
    "version": 3
   },
   "file_extension": ".py",
   "mimetype": "text/x-python",
   "name": "python",
   "nbconvert_exporter": "python",
   "pygments_lexer": "ipython3",
   "version": "3.7.2"
  }
 },
 "nbformat": 4,
 "nbformat_minor": 2
}
